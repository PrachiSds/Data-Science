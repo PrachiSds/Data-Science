{
 "cells": [
  {
   "cell_type": "markdown",
   "id": "fb77e88a",
   "metadata": {},
   "source": [
    "### Sets\n",
    "\n",
    "### Sets are used to store multiple items in a single variable.\n",
    "\n",
    "### A set is a collection which is --\n",
    "\n",
    "### unordered (cannot be referred to by index ) \n",
    "\n",
    "### unchangeable (Once a set is created, you cannot change its items, but you can remove items and add new items.),\n",
    "\n",
    "### unindexed and do not allow duplicate values.\n",
    "\n",
    "### Sets are written with curly brackets."
   ]
  },
  {
   "cell_type": "code",
   "execution_count": 1,
   "id": "1c4b47b3",
   "metadata": {},
   "outputs": [
    {
     "name": "stdout",
     "output_type": "stream",
     "text": [
      "{'a', 'c', 'b', 'd'}\n"
     ]
    }
   ],
   "source": [
    "myset = {\"a\",\"b\", \"c\", \"d\"}\n",
    "         \n",
    "print(myset)         "
   ]
  },
  {
   "cell_type": "code",
   "execution_count": 2,
   "id": "a74ccd8a",
   "metadata": {},
   "outputs": [
    {
     "name": "stdout",
     "output_type": "stream",
     "text": [
      "4\n"
     ]
    }
   ],
   "source": [
    "print(len(myset))"
   ]
  },
  {
   "cell_type": "code",
   "execution_count": 3,
   "id": "a34a7178",
   "metadata": {},
   "outputs": [
    {
     "name": "stdout",
     "output_type": "stream",
     "text": [
      "{'a', 3.1, 22, True}\n"
     ]
    }
   ],
   "source": [
    "myset = {\"a\", 22, True, 3.1}\n",
    "\n",
    "print(myset)"
   ]
  },
  {
   "cell_type": "code",
   "execution_count": 4,
   "id": "50531e61",
   "metadata": {},
   "outputs": [
    {
     "name": "stdout",
     "output_type": "stream",
     "text": [
      "<class 'set'>\n"
     ]
    }
   ],
   "source": [
    "# how to find type of set\n",
    "print(type(myset))"
   ]
  },
  {
   "cell_type": "markdown",
   "id": "42a6b1c3",
   "metadata": {},
   "source": [
    "### 1. Access Set items\n",
    "\n",
    "### We cannot access items in a set by referring to an index or a key.\n",
    "\n",
    "### But you can loop through the set items using a for loop, \n",
    "### Also we can check if specified value is present in a set or not, by using the   in   keyword."
   ]
  },
  {
   "cell_type": "code",
   "execution_count": 7,
   "id": "3d600f17",
   "metadata": {},
   "outputs": [
    {
     "name": "stdout",
     "output_type": "stream",
     "text": [
      "a\n",
      "3.1\n",
      "22\n",
      "True\n"
     ]
    }
   ],
   "source": [
    "myset = {\"a\", 22, True, 3.1}\n",
    "\n",
    "for x in myset:\n",
    "    print(x)"
   ]
  },
  {
   "cell_type": "code",
   "execution_count": 9,
   "id": "683aed79",
   "metadata": {},
   "outputs": [
    {
     "name": "stdout",
     "output_type": "stream",
     "text": [
      "False\n"
     ]
    }
   ],
   "source": [
    "myset = {\"a\", 22, True, 3.1}\n",
    "\n",
    "print(\"b\" in myset)"
   ]
  },
  {
   "cell_type": "code",
   "execution_count": null,
   "id": "bc18c9ab",
   "metadata": {},
   "outputs": [],
   "source": [
    "# Change items--- We cannot change items in set but we can add new"
   ]
  },
  {
   "cell_type": "markdown",
   "id": "ca4993d7",
   "metadata": {},
   "source": [
    "### 2. add()"
   ]
  },
  {
   "cell_type": "code",
   "execution_count": 10,
   "id": "3d512654",
   "metadata": {},
   "outputs": [
    {
     "name": "stdout",
     "output_type": "stream",
     "text": [
      "{'book', 'paper', 'pen', 'laptop', 'pc'}\n"
     ]
    }
   ],
   "source": [
    "set1 = {\"book\", \"pen\", \"paper\", \"pc\"}\n",
    "\n",
    "set1.add(\"laptop\")\n",
    "\n",
    "print(set1)"
   ]
  },
  {
   "cell_type": "markdown",
   "id": "0c8b13be",
   "metadata": {},
   "source": [
    "### 3. update()"
   ]
  },
  {
   "cell_type": "code",
   "execution_count": 11,
   "id": "3570291d",
   "metadata": {},
   "outputs": [
    {
     "name": "stdout",
     "output_type": "stream",
     "text": [
      "{10, 'computer', 'book', 'paper', 'pc', 'pencil', 'pen'}\n"
     ]
    }
   ],
   "source": [
    "# we can add items from another set to our current set\n",
    "\n",
    "set1 = {\"book\", \"pen\", \"paper\", \"pc\"}\n",
    "\n",
    "set2 = {\"pencil\", 10, \"computer\"}\n",
    "\n",
    "set1.update(set2)\n",
    "\n",
    "print(set1)"
   ]
  },
  {
   "cell_type": "code",
   "execution_count": 12,
   "id": "81ef8fba",
   "metadata": {},
   "outputs": [
    {
     "name": "stdout",
     "output_type": "stream",
     "text": [
      "{2, 3, 4, 'book', 'paper', 'pen', 'a', 'pc', 'b'}\n"
     ]
    }
   ],
   "source": [
    "# we can also add items from tuple, dictionary, list to our current set\n",
    "\n",
    "set1 = {\"book\", \"pen\", \"paper\", \"pc\"}\n",
    "list1 = [2, \"a\", 3, 4,\"b\"]\n",
    "\n",
    "set1.update(list1)\n",
    "\n",
    "print(set1)\n",
    " "
   ]
  },
  {
   "cell_type": "markdown",
   "id": "3311dc11",
   "metadata": {},
   "source": [
    "### 4. remove() or discard()"
   ]
  },
  {
   "cell_type": "code",
   "execution_count": 15,
   "id": "ba42c304",
   "metadata": {},
   "outputs": [
    {
     "name": "stdout",
     "output_type": "stream",
     "text": [
      "{'pen', 'pc', 'book'}\n"
     ]
    }
   ],
   "source": [
    "set1 = {\"book\", \"pen\", \"paper\", \"pc\"}\n",
    "\n",
    "set1.remove(\"paper\")\n",
    "\n",
    "print(set1)             #if the element is not present it will raise an error"
   ]
  },
  {
   "cell_type": "code",
   "execution_count": 20,
   "id": "ff61e438",
   "metadata": {},
   "outputs": [
    {
     "name": "stdout",
     "output_type": "stream",
     "text": [
      "{'computer', 'pencil'}\n"
     ]
    }
   ],
   "source": [
    "set2 = {\"pencil\", 10, \"computer\"}\n",
    "\n",
    "set2.discard(10)\n",
    "\n",
    "print(set2)                 #if the element is not present it will not raise an error\n",
    "                            # we can also use pop() method but pop will remove last element, so we should know last element\n",
    "                            # clear() method will empty the set"
   ]
  },
  {
   "cell_type": "markdown",
   "id": "0ea1ba07",
   "metadata": {},
   "source": [
    "## Dictionary"
   ]
  },
  {
   "cell_type": "markdown",
   "id": "6743753f",
   "metadata": {},
   "source": [
    "### Dictionaries are used to store data values in key:value pairs.\n",
    "\n",
    "### A dictionary is a collection which is ordered, changeable and do not allow duplicates(values will overwrite).\n",
    "\n",
    "### Dictionaries are written with curly brackets\n"
   ]
  },
  {
   "cell_type": "code",
   "execution_count": 46,
   "id": "72464a54",
   "metadata": {},
   "outputs": [
    {
     "name": "stdout",
     "output_type": "stream",
     "text": [
      "{' Name': 'John', 'Age': 10, 'Class': 1}\n"
     ]
    }
   ],
   "source": [
    "d1 = {\" Name\" : \"John\",\n",
    "      \"Age\" :10,\n",
    "      \"Class\" : 1  \n",
    "}\n",
    "\n",
    "print(d1)\n",
    "\n"
   ]
  },
  {
   "cell_type": "markdown",
   "id": "39aa73d0",
   "metadata": {},
   "source": [
    "### 1. Access elements"
   ]
  },
  {
   "cell_type": "markdown",
   "id": "e4263f6e",
   "metadata": {},
   "source": [
    "###  We can access elements by using its key name inside [ ]"
   ]
  },
  {
   "cell_type": "code",
   "execution_count": 21,
   "id": "e4d0934e",
   "metadata": {},
   "outputs": [
    {
     "name": "stdout",
     "output_type": "stream",
     "text": [
      "John\n"
     ]
    }
   ],
   "source": [
    "d1 = {\"Name\" :\"John\",\n",
    "      \"Age\" :10,\n",
    "      \"Class\" : 1  \n",
    "}\n",
    "\n",
    "\n",
    "print(d1[\"Name\"])"
   ]
  },
  {
   "cell_type": "markdown",
   "id": "0b029933",
   "metadata": {},
   "source": [
    "### 2. get() "
   ]
  },
  {
   "cell_type": "code",
   "execution_count": 23,
   "id": "0854c533",
   "metadata": {},
   "outputs": [
    {
     "name": "stdout",
     "output_type": "stream",
     "text": [
      "John\n"
     ]
    }
   ],
   "source": [
    "# will also give the same result\n",
    "\n",
    "a = d1.get(\"Name\")\n",
    "\n",
    "print(a)"
   ]
  },
  {
   "cell_type": "markdown",
   "id": "08eceac5",
   "metadata": {},
   "source": [
    "### 3. key()"
   ]
  },
  {
   "cell_type": "code",
   "execution_count": 24,
   "id": "a1084d29",
   "metadata": {},
   "outputs": [
    {
     "name": "stdout",
     "output_type": "stream",
     "text": [
      "dict_keys(['Name', 'Age', 'Class'])\n"
     ]
    }
   ],
   "source": [
    "# it will return list of all key values\n",
    "\n",
    "a = d1.keys()\n",
    "\n",
    "print(a)"
   ]
  },
  {
   "cell_type": "markdown",
   "id": "1bf1c863",
   "metadata": {},
   "source": [
    "### 4. Change values"
   ]
  },
  {
   "cell_type": "code",
   "execution_count": 25,
   "id": "531dc752",
   "metadata": {},
   "outputs": [
    {
     "name": "stdout",
     "output_type": "stream",
     "text": [
      "{'Name': 'John', 'Age': 10, 'Class': 2}\n"
     ]
    }
   ],
   "source": [
    "# we can change the values by referring to its key name\n",
    "\n",
    "d1 = {\"Name\" :\"John\",\n",
    "      \"Age\" :10,\n",
    "      \"Class\" : 1  \n",
    "}\n",
    "\n",
    "d1[\"Class\"] = 2\n",
    "\n",
    "print(d1)"
   ]
  },
  {
   "cell_type": "markdown",
   "id": "4c4fb522",
   "metadata": {},
   "source": [
    "### 5. Add element"
   ]
  },
  {
   "cell_type": "code",
   "execution_count": 26,
   "id": "e6f6068b",
   "metadata": {},
   "outputs": [
    {
     "name": "stdout",
     "output_type": "stream",
     "text": [
      "{'Name': 'John', 'Age': 10, 'Class': 1, 'subject': 'Data Science'}\n"
     ]
    }
   ],
   "source": [
    "d1 = {\"Name\" :\"John\",\n",
    "      \"Age\" :10,\n",
    "      \"Class\" : 1  \n",
    "}\n",
    "\n",
    "d1[\"subject\"] = \"Data Science\"\n",
    "\n",
    "print(d1)"
   ]
  },
  {
   "cell_type": "markdown",
   "id": "703e02f8",
   "metadata": {},
   "source": [
    "### 6. Removing an element"
   ]
  },
  {
   "cell_type": "markdown",
   "id": "d26285bd",
   "metadata": {},
   "source": [
    "### pop()"
   ]
  },
  {
   "cell_type": "code",
   "execution_count": 27,
   "id": "e9bd03ef",
   "metadata": {},
   "outputs": [
    {
     "name": "stdout",
     "output_type": "stream",
     "text": [
      "{'Name': 'John', 'Age': 10}\n"
     ]
    }
   ],
   "source": [
    "d1 = {\"Name\" :\"John\",\n",
    "      \"Age\" :10,\n",
    "      \"Class\" : 1  \n",
    "}\n",
    "\n",
    "d1.pop(\"Class\")\n",
    "print(d1)\n",
    "\n",
    "#pop() removes specified item"
   ]
  },
  {
   "cell_type": "markdown",
   "id": "d05c1858",
   "metadata": {},
   "source": [
    "### popitem()"
   ]
  },
  {
   "cell_type": "code",
   "execution_count": 28,
   "id": "3a0bee98",
   "metadata": {},
   "outputs": [
    {
     "name": "stdout",
     "output_type": "stream",
     "text": [
      "{'Name': 'John', 'Age': 10}\n"
     ]
    }
   ],
   "source": [
    "d1 = {\"Name\" :\"John\",\n",
    "      \"Age\" :10,\n",
    "      \"Class\" : 1  \n",
    "}\n",
    "\n",
    "d1.popitem()\n",
    "print(d1)\n",
    "\n",
    "# it removes last element"
   ]
  },
  {
   "cell_type": "code",
   "execution_count": null,
   "id": "3af356ab",
   "metadata": {},
   "outputs": [],
   "source": []
  }
 ],
 "metadata": {
  "kernelspec": {
   "display_name": "Python 3 (ipykernel)",
   "language": "python",
   "name": "python3"
  },
  "language_info": {
   "codemirror_mode": {
    "name": "ipython",
    "version": 3
   },
   "file_extension": ".py",
   "mimetype": "text/x-python",
   "name": "python",
   "nbconvert_exporter": "python",
   "pygments_lexer": "ipython3",
   "version": "3.9.12"
  }
 },
 "nbformat": 4,
 "nbformat_minor": 5
}
