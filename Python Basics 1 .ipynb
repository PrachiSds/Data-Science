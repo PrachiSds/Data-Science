{
 "cells": [
  {
   "cell_type": "markdown",
   "id": "3dd522ed",
   "metadata": {},
   "source": [
    "## Python Basics"
   ]
  },
  {
   "cell_type": "markdown",
   "id": "7ffcefd7",
   "metadata": {},
   "source": [
    "### Python is open source, interpreted, high level language.\n",
    "\n",
    "### Python provide great functionality to deal with mathematics, statistics and scientific function. \n",
    "\n",
    "### It provides great libraries to deals with data science application."
   ]
  },
  {
   "cell_type": "markdown",
   "id": "298e89e9",
   "metadata": {},
   "source": [
    "### 1. Python Syntax"
   ]
  },
  {
   "cell_type": "code",
   "execution_count": 1,
   "id": "aa5fb057",
   "metadata": {},
   "outputs": [
    {
     "name": "stdout",
     "output_type": "stream",
     "text": [
      "Hello World\n"
     ]
    }
   ],
   "source": [
    "print(\"Hello World\")                      #print is used to output variable"
   ]
  },
  {
   "cell_type": "code",
   "execution_count": 2,
   "id": "1e745e11",
   "metadata": {},
   "outputs": [
    {
     "name": "stdout",
     "output_type": "stream",
     "text": [
      "This is Data Science with Python Class\n"
     ]
    }
   ],
   "source": [
    "print('This is Data Science with Python Class')   "
   ]
  },
  {
   "cell_type": "code",
   "execution_count": 3,
   "id": "36dafc88",
   "metadata": {},
   "outputs": [
    {
     "name": "stdout",
     "output_type": "stream",
     "text": [
      "Journey towards Data Science\n"
     ]
    }
   ],
   "source": [
    "print('''Journey towards Data Science''')"
   ]
  },
  {
   "cell_type": "markdown",
   "id": "207b6df4",
   "metadata": {},
   "source": [
    "### 2. Comments"
   ]
  },
  {
   "cell_type": "code",
   "execution_count": 8,
   "id": "5896889e",
   "metadata": {},
   "outputs": [
    {
     "name": "stdout",
     "output_type": "stream",
     "text": [
      "data science\n"
     ]
    }
   ],
   "source": [
    "# print(\"this is a comment\")\n",
    "print(\"data science\")"
   ]
  },
  {
   "cell_type": "code",
   "execution_count": 4,
   "id": "d72d6e47",
   "metadata": {},
   "outputs": [
    {
     "name": "stdout",
     "output_type": "stream",
     "text": [
      "data science class\n"
     ]
    }
   ],
   "source": [
    "# print(\"this is a comment\")\n",
    "print(\"data science class\")"
   ]
  },
  {
   "cell_type": "markdown",
   "id": "6aec2dce",
   "metadata": {},
   "source": [
    "### 3. Python Variables"
   ]
  },
  {
   "cell_type": "markdown",
   "id": "da97bc7f",
   "metadata": {},
   "source": [
    "### Variables are containers for storing data values.\n",
    "\n",
    "### For Creating Variables --\n",
    "### Python has no command for declaring a variable.\n",
    "\n",
    "### A variable is created the moment you first assign a value to it.\n",
    "\n",
    "### Variable names are case sensitive"
   ]
  },
  {
   "cell_type": "code",
   "execution_count": 5,
   "id": "33ff6462",
   "metadata": {},
   "outputs": [
    {
     "name": "stdout",
     "output_type": "stream",
     "text": [
      "10\n",
      "Name\n",
      "22\n"
     ]
    }
   ],
   "source": [
    "a = 10\n",
    "A = 22\n",
    "b = \"Name\"\n",
    "print(a)\n",
    "print(b)\n",
    "print(A)"
   ]
  },
  {
   "cell_type": "code",
   "execution_count": 9,
   "id": "a2e1f84c",
   "metadata": {},
   "outputs": [
    {
     "name": "stdout",
     "output_type": "stream",
     "text": [
      "10\n",
      "Name\n"
     ]
    }
   ],
   "source": [
    "a = 10\n",
    "b = \"Name\"\n",
    "print(a)\n",
    "print(b)"
   ]
  },
  {
   "cell_type": "code",
   "execution_count": 10,
   "id": "09c7b822",
   "metadata": {},
   "outputs": [],
   "source": [
    "# Variables do not need to be declared with any particular type, and can even change type after they have been set."
   ]
  },
  {
   "cell_type": "code",
   "execution_count": 6,
   "id": "4c8ff947",
   "metadata": {},
   "outputs": [
    {
     "name": "stdout",
     "output_type": "stream",
     "text": [
      "5\n"
     ]
    }
   ],
   "source": [
    "c = \"abc\"\n",
    "c = 5\n",
    "print(c)"
   ]
  },
  {
   "cell_type": "markdown",
   "id": "f940f8d1",
   "metadata": {},
   "source": [
    "### 4. type() function"
   ]
  },
  {
   "cell_type": "code",
   "execution_count": 12,
   "id": "f18b015e",
   "metadata": {},
   "outputs": [],
   "source": [
    "# To get the data type of a variable "
   ]
  },
  {
   "cell_type": "code",
   "execution_count": 11,
   "id": "e8ce7fd7",
   "metadata": {},
   "outputs": [
    {
     "name": "stdout",
     "output_type": "stream",
     "text": [
      "<class 'int'>\n",
      "<class 'str'>\n",
      "<class 'float'>\n",
      "<class 'bool'>\n"
     ]
    }
   ],
   "source": [
    "a = 10\n",
    "b = \"Name\"\n",
    "c = 2.333\n",
    "d = True\n",
    "print(type(a))\n",
    "print(type(b))\n",
    "print(type(c))\n",
    "print(type(d))"
   ]
  },
  {
   "cell_type": "code",
   "execution_count": 13,
   "id": "61a94ef2",
   "metadata": {},
   "outputs": [
    {
     "name": "stdout",
     "output_type": "stream",
     "text": [
      "<class 'int'>\n",
      "<class 'str'>\n"
     ]
    }
   ],
   "source": [
    "a = 10\n",
    "b = \"Name\"\n",
    "print(type(a))\n",
    "print(type(b))"
   ]
  },
  {
   "cell_type": "markdown",
   "id": "17c5cec4",
   "metadata": {},
   "source": [
    "### 5. Assign Multiple Values"
   ]
  },
  {
   "cell_type": "code",
   "execution_count": 15,
   "id": "40b41df0",
   "metadata": {},
   "outputs": [
    {
     "name": "stdout",
     "output_type": "stream",
     "text": [
      "Learn\n",
      "Python\n",
      "Basics\n"
     ]
    }
   ],
   "source": [
    "a1, b1, c1 = \"Learning\", \"Python\", \"Basics\"        # Python allows you to assign values to multiple variables in one line               \n",
    "\n",
    "print(a1)\n",
    "print(b1)\n",
    "print(c1)"
   ]
  },
  {
   "cell_type": "code",
   "execution_count": 17,
   "id": "670aa8db",
   "metadata": {},
   "outputs": [
    {
     "name": "stdout",
     "output_type": "stream",
     "text": [
      "data science\n",
      "data science\n",
      "data science\n"
     ]
    }
   ],
   "source": [
    "a = b = c = \"data science\"\n",
    "\n",
    "print(a)\n",
    "print(b)\n",
    "print(c)"
   ]
  },
  {
   "cell_type": "markdown",
   "id": "cf4910ac",
   "metadata": {},
   "source": [
    "### 6. Data types in Python"
   ]
  },
  {
   "cell_type": "markdown",
   "id": "542d943f",
   "metadata": {},
   "source": [
    "### Built-in Data Types\n",
    "\n",
    "#### Variables can hold values, and every value has a data-type. \n",
    "#### Python is a dynamically typed language; hence we do not need to define the type of the variable while declaring it. \n",
    "#### The interpreter implicitly binds the value with its type. "
   ]
  },
  {
   "cell_type": "code",
   "execution_count": 1,
   "id": "2957e564",
   "metadata": {},
   "outputs": [],
   "source": [
    "a2 = 10        # here the variable a2 holds integer value 10 and we didnot define its type."
   ]
  },
  {
   "cell_type": "code",
   "execution_count": null,
   "id": "d96d74cd",
   "metadata": {},
   "outputs": [],
   "source": [
    "Text Type:\tstr\n",
    "    \n",
    "Numeric Types:\tint, float, complex\n",
    "    \n",
    "Sequence Types:\tlist, tuple, range\n",
    "    \n",
    "Mapping Type:\tdict\n",
    "    \n",
    "Set Types:\tset, frozenset\n",
    "    \n",
    "Boolean Type:\tbool\n",
    "    \n"
   ]
  },
  {
   "cell_type": "code",
   "execution_count": 10,
   "id": "d0b0fb5c",
   "metadata": {},
   "outputs": [
    {
     "name": "stdout",
     "output_type": "stream",
     "text": [
      "string using double quotes\n",
      "A multiline \n",
      "string\n"
     ]
    }
   ],
   "source": [
    "# 1. String\n",
    "\n",
    "s1 = \"string using double quotes\"\n",
    "\n",
    "print(s1)  \n",
    "\n",
    "s2 = '''A multiline \n",
    "string'''  \n",
    "\n",
    "print(s2)  "
   ]
  },
  {
   "cell_type": "code",
   "execution_count": 18,
   "id": "3068c089",
   "metadata": {},
   "outputs": [
    {
     "name": "stdout",
     "output_type": "stream",
     "text": [
      "string using double quotes\n",
      "A multiline \n",
      "string\n"
     ]
    }
   ],
   "source": [
    "s1 = \"string using double quotes\"\n",
    "\n",
    "print(s1)  \n",
    "\n",
    "s2 = '''A multiline \n",
    "string'''  \n",
    "\n",
    "print(s2)  "
   ]
  },
  {
   "cell_type": "code",
   "execution_count": 62,
   "id": "a94bd86a",
   "metadata": {},
   "outputs": [
    {
     "name": "stdout",
     "output_type": "stream",
     "text": [
      "The type of a <class 'int'>\n",
      "The type of b <class 'float'>\n",
      "The type of c <class 'complex'>\n"
     ]
    }
   ],
   "source": [
    "# 2. Numeric Type\n",
    "\n",
    "n1 = 5  \n",
    "print(\"The type of a\", type(n1))  \n",
    "  \n",
    "n2 = 40.5  \n",
    "print(\"The type of b\", type(n2))  \n",
    "  \n",
    "n3 = 1+3j  \n",
    "print(\"The type of c\", type(n3))  \n",
    "\n",
    " "
   ]
  },
  {
   "cell_type": "markdown",
   "id": "19022a39",
   "metadata": {},
   "source": [
    "#### Int - Integer value can be any length such as integers 10, 2, 29, -20, -150 etc.\n",
    "\n",
    "#### Python has no restriction on the length of an integer. Its value belongs to int\n",
    "\n",
    "#### Float - Float is used to store floating-point numbers like 1.9, 9.902, 15.2, etc. It is accurate upto 15 decimal points.\n",
    "\n",
    "#### complex - A complex number contains an ordered pair, i.e., x + iy where x and y denote the real and imaginary parts, respectively. \n",
    "#### The complex numbers like 2.14j, 2.0 + 2.3j, etc."
   ]
  },
  {
   "cell_type": "code",
   "execution_count": 63,
   "id": "ad649a42",
   "metadata": {},
   "outputs": [
    {
     "name": "stdout",
     "output_type": "stream",
     "text": [
      "<class 'int'>\n",
      "<class 'int'>\n",
      "<class 'int'>\n"
     ]
    }
   ],
   "source": [
    "### Exercise Try it\n",
    "\n",
    "t1 = 1\n",
    "t2 = 35656222554887711\n",
    "t3 = -3255522\n",
    "\n",
    "print(type(t1))\n",
    "print(type(t2))\n",
    "print(type(t3))"
   ]
  },
  {
   "cell_type": "code",
   "execution_count": null,
   "id": "07e36bed",
   "metadata": {},
   "outputs": [],
   "source": [
    "### Exercise Try it\n",
    "\n",
    "t1 = 2.20\n",
    "t2 = 5.1111\n",
    "t3 = -30.45890\n",
    "\n",
    "print(type(t1))\n",
    "print(type(t2))\n",
    "print(type(t3))"
   ]
  },
  {
   "cell_type": "code",
   "execution_count": null,
   "id": "74263380",
   "metadata": {},
   "outputs": [],
   "source": [
    "### Exercise Try it\n",
    "\n",
    "t1 = 42e44\n",
    "t2 = 10e300\n",
    "t3 = -30.2e99\n",
    "\n",
    "print(type(t1))\n",
    "print(type(t2))\n",
    "print(type(t3))"
   ]
  },
  {
   "cell_type": "markdown",
   "id": "044b0129",
   "metadata": {},
   "source": [
    "### 7. Type conversion--convert from one type to another"
   ]
  },
  {
   "cell_type": "code",
   "execution_count": 65,
   "id": "4fcacbb5",
   "metadata": {},
   "outputs": [
    {
     "name": "stdout",
     "output_type": "stream",
     "text": [
      "2.0\n",
      "4\n",
      "(2+0j)\n",
      "<class 'float'>\n",
      "<class 'int'>\n",
      "<class 'complex'>\n"
     ]
    }
   ],
   "source": [
    "x = 2    # int\n",
    "y = 4.1  # float\n",
    "z = 2j   # complex\n",
    "\n",
    "#convert from int to float:\n",
    "a = float(x)\n",
    "\n",
    "#convert from float to int:\n",
    "b = int(y)\n",
    "\n",
    "#convert from int to complex:\n",
    "c = complex(x)\n",
    "\n",
    "print(a)\n",
    "print(b)\n",
    "print(c)\n",
    "\n",
    "print(type(a))\n",
    "print(type(b))\n",
    "print(type(c))"
   ]
  },
  {
   "cell_type": "markdown",
   "id": "03db22ce",
   "metadata": {},
   "source": [
    "### 8. List"
   ]
  },
  {
   "cell_type": "markdown",
   "id": "a85c1888",
   "metadata": {},
   "source": [
    "### Lists are used to store multiple items in a single variable.\n",
    "\n",
    "### Lists are one of 4 built-in data types in Python used to store collections of data, the other 3 are Tuple, Set, and Dictionary, all with different qualities and usage.\n",
    "\n",
    "### Lists are created using square brackets"
   ]
  },
  {
   "cell_type": "code",
   "execution_count": 66,
   "id": "c0b77580",
   "metadata": {},
   "outputs": [
    {
     "name": "stdout",
     "output_type": "stream",
     "text": [
      "['pen', 'book', 'paper', 'laptop']\n"
     ]
    }
   ],
   "source": [
    "# Create list\n",
    "\n",
    "mylist = [\"pen\", \"book\", \"paper\", \"laptop\"]\n",
    "\n",
    "print(mylist)"
   ]
  },
  {
   "cell_type": "markdown",
   "id": "8bffde02",
   "metadata": {},
   "source": [
    "### a. List length"
   ]
  },
  {
   "cell_type": "code",
   "execution_count": 67,
   "id": "d9f286ff",
   "metadata": {},
   "outputs": [
    {
     "name": "stdout",
     "output_type": "stream",
     "text": [
      "4\n"
     ]
    }
   ],
   "source": [
    "\n",
    "print(len(mylist))"
   ]
  },
  {
   "cell_type": "markdown",
   "id": "69bf02d3",
   "metadata": {},
   "source": [
    "### b. List items are ordered, mutable(changeable), allows duplicate and heterogenous"
   ]
  },
  {
   "cell_type": "code",
   "execution_count": 68,
   "id": "1ccdc550",
   "metadata": {},
   "outputs": [
    {
     "name": "stdout",
     "output_type": "stream",
     "text": [
      "['a', 'a', 1, True]\n"
     ]
    }
   ],
   "source": [
    "# Example\n",
    "\n",
    "list = [\"a\", \"a\",1, True]\n",
    "print(list)"
   ]
  },
  {
   "cell_type": "markdown",
   "id": "117a98e5",
   "metadata": {},
   "source": [
    "### c. List indexing"
   ]
  },
  {
   "cell_type": "markdown",
   "id": "52567d1b",
   "metadata": {},
   "source": [
    "### List items are indexed, the first item has index [0], the second item has index [1] and so on\n",
    "\n",
    "### Negative Indexing\n",
    "### Negative indexing means start from the end\n",
    "\n",
    "### -1 refers to the last item, -2 refers to the second last item and so on"
   ]
  },
  {
   "cell_type": "markdown",
   "id": "ef7eea41",
   "metadata": {},
   "source": [
    "### d. Access list items"
   ]
  },
  {
   "cell_type": "code",
   "execution_count": 69,
   "id": "4227690b",
   "metadata": {},
   "outputs": [
    {
     "name": "stdout",
     "output_type": "stream",
     "text": [
      "laptop\n"
     ]
    }
   ],
   "source": [
    "list = [\"pen\", \"laptop\", 6, 2, \"book\"]\n",
    "\n",
    "print(list[1])\n"
   ]
  },
  {
   "cell_type": "code",
   "execution_count": 27,
   "id": "d69f7a6a",
   "metadata": {},
   "outputs": [],
   "source": [
    "# if i want to --print pen, print book\n",
    "\n",
    "# what will be the output of print(list[-3])"
   ]
  },
  {
   "cell_type": "markdown",
   "id": "de26dc68",
   "metadata": {},
   "source": [
    "#### Range of Indexes--- We can specify a range of indexes by specifying where to start and where to end the range."
   ]
  },
  {
   "cell_type": "code",
   "execution_count": 71,
   "id": "5d030576",
   "metadata": {},
   "outputs": [
    {
     "name": "stdout",
     "output_type": "stream",
     "text": [
      "['laptop', 6]\n",
      "['pen', 'laptop', 6]\n",
      "['laptop', 6, 2, 'book']\n"
     ]
    }
   ],
   "source": [
    "print(list[1:3])\n",
    "\n",
    "print(list[:3])\n",
    "\n",
    "print(list[1:])\n",
    "\n"
   ]
  },
  {
   "cell_type": "markdown",
   "id": "79658941",
   "metadata": {},
   "source": [
    "### e. Change list items"
   ]
  },
  {
   "cell_type": "code",
   "execution_count": 74,
   "id": "dbcc80ae",
   "metadata": {},
   "outputs": [
    {
     "name": "stdout",
     "output_type": "stream",
     "text": [
      "['orange', 'apple', 'kiwi', 'abc', 9]\n",
      "['orange', 'grapes', 'watermelon', 'abc', 9]\n"
     ]
    }
   ],
   "source": [
    "list = [\"orange\", \"apple\", \"kiwi\", 7, 9]\n",
    "\n",
    "#list[3] = 10\n",
    "\n",
    "list[3] = \"abc\"\n",
    "\n",
    "print(list)\n",
    "\n",
    "list[1:3] = [\"grapes\", \"watermelon\"]\n",
    "\n",
    "print(list)"
   ]
  },
  {
   "cell_type": "markdown",
   "id": "93573d55",
   "metadata": {},
   "source": [
    "### f. Add list items"
   ]
  },
  {
   "cell_type": "markdown",
   "id": "cf20a516",
   "metadata": {},
   "source": [
    "### append() --To add an item to the end of the list"
   ]
  },
  {
   "cell_type": "code",
   "execution_count": 75,
   "id": "61e2ce55",
   "metadata": {},
   "outputs": [
    {
     "name": "stdout",
     "output_type": "stream",
     "text": [
      "['orange', 'grapes', 'watermelon', 'abc', 9, 'kiwi']\n"
     ]
    }
   ],
   "source": [
    "list.append(\"kiwi\")\n",
    "\n",
    "print(list)"
   ]
  },
  {
   "cell_type": "markdown",
   "id": "9bf75696",
   "metadata": {},
   "source": [
    "### insert() -- To insert a list item at a specified index"
   ]
  },
  {
   "cell_type": "code",
   "execution_count": 76,
   "id": "42a4b4fa",
   "metadata": {},
   "outputs": [
    {
     "name": "stdout",
     "output_type": "stream",
     "text": [
      "['orange', 'grapes', 'muskmelon', 'watermelon', 'abc', 9, 'kiwi']\n"
     ]
    }
   ],
   "source": [
    "list.insert(2, \"muskmelon\")\n",
    "\n",
    "print(list)"
   ]
  },
  {
   "cell_type": "markdown",
   "id": "9e8f2867",
   "metadata": {},
   "source": [
    "### g. Remove List Items"
   ]
  },
  {
   "cell_type": "markdown",
   "id": "d141ae05",
   "metadata": {},
   "source": [
    "### remove() -- removes the specified item."
   ]
  },
  {
   "cell_type": "code",
   "execution_count": 77,
   "id": "af3bdfd8",
   "metadata": {},
   "outputs": [
    {
     "name": "stdout",
     "output_type": "stream",
     "text": [
      "['orange', 'grapes', 'muskmelon', 'watermelon', 'abc', 9]\n"
     ]
    }
   ],
   "source": [
    "list.remove(\"kiwi\")\n",
    "\n",
    "print(list)"
   ]
  },
  {
   "cell_type": "markdown",
   "id": "6a866a2b",
   "metadata": {},
   "source": [
    "### pop() --removes the specified index"
   ]
  },
  {
   "cell_type": "code",
   "execution_count": 79,
   "id": "21a7b781",
   "metadata": {},
   "outputs": [
    {
     "name": "stdout",
     "output_type": "stream",
     "text": [
      "['orange', 'grapes', 'muskmelon', 'watermelon', 9]\n"
     ]
    }
   ],
   "source": [
    "list.pop(4)\n",
    "\n",
    "print(list)"
   ]
  },
  {
   "cell_type": "markdown",
   "id": "3d41c572",
   "metadata": {},
   "source": [
    "### 9. Tuple\n",
    "\n",
    "### Tuples are used to store multiple items in a single variable.\n",
    "\n",
    "### A tuple is a collection which is ordered and unchangeable.\n",
    "\n",
    "### Tuples are written with round brackets.\n",
    "\n",
    "### Tuple items are ordered, unchangeable, and allow duplicate values.\n",
    "\n",
    "### Tuple items are indexed, the first item has index [0], the second item has index [1]"
   ]
  },
  {
   "cell_type": "code",
   "execution_count": 80,
   "id": "bbc6b011",
   "metadata": {},
   "outputs": [
    {
     "name": "stdout",
     "output_type": "stream",
     "text": [
      "('name', 'age', 2, 3)\n"
     ]
    }
   ],
   "source": [
    "tuple1 = (\"name\", \"age\", 2, 3)\n",
    "\n",
    "print(tuple1)"
   ]
  },
  {
   "cell_type": "markdown",
   "id": "111b6dd2",
   "metadata": {},
   "source": [
    "### a. Access tuples"
   ]
  },
  {
   "cell_type": "code",
   "execution_count": 81,
   "id": "d77c2cf5",
   "metadata": {},
   "outputs": [
    {
     "name": "stdout",
     "output_type": "stream",
     "text": [
      "age\n"
     ]
    }
   ],
   "source": [
    "print(tuple1[1])"
   ]
  },
  {
   "cell_type": "code",
   "execution_count": 82,
   "id": "b5d3b6d4",
   "metadata": {},
   "outputs": [
    {
     "name": "stdout",
     "output_type": "stream",
     "text": [
      "('age', 2, 3)\n"
     ]
    }
   ],
   "source": [
    "print(tuple1[1:5])"
   ]
  },
  {
   "cell_type": "markdown",
   "id": "86423d83",
   "metadata": {},
   "source": [
    "### b. Add Items"
   ]
  },
  {
   "cell_type": "markdown",
   "id": "2cc162af",
   "metadata": {},
   "source": [
    "### Since tuples are immutable, they do not have a build-in append()"
   ]
  },
  {
   "cell_type": "code",
   "execution_count": 87,
   "id": "746261d0",
   "metadata": {},
   "outputs": [
    {
     "name": "stdout",
     "output_type": "stream",
     "text": [
      "(1, 'kiwi', 'cherry', 'apple', 1)\n"
     ]
    }
   ],
   "source": [
    "mytuple = (1, \"kiwi\", \"cherry\")\n",
    "\n",
    "t = (\"apple\", 1)\n",
    "\n",
    "mytuple += t\n",
    "\n",
    "print(mytuple)\n"
   ]
  },
  {
   "cell_type": "markdown",
   "id": "01ce8e65",
   "metadata": {},
   "source": [
    "### c. join 2 tuples"
   ]
  },
  {
   "cell_type": "code",
   "execution_count": 88,
   "id": "f376a0bb",
   "metadata": {},
   "outputs": [
    {
     "name": "stdout",
     "output_type": "stream",
     "text": [
      "('a', 'b', 'c', 1, 2, 3)\n"
     ]
    }
   ],
   "source": [
    "t1 = (\"a\", \"b\" , \"c\")\n",
    "t2 = (1, 2, 3)\n",
    "\n",
    "t3 = t1 + t2\n",
    "print(t3)"
   ]
  },
  {
   "cell_type": "code",
   "execution_count": 89,
   "id": "6c77b69a",
   "metadata": {},
   "outputs": [
    {
     "name": "stdout",
     "output_type": "stream",
     "text": [
      "<class 'tuple'>\n"
     ]
    }
   ],
   "source": [
    "print(type(t3))"
   ]
  },
  {
   "cell_type": "code",
   "execution_count": null,
   "id": "cc6c282b",
   "metadata": {},
   "outputs": [],
   "source": []
  }
 ],
 "metadata": {
  "kernelspec": {
   "display_name": "Python 3 (ipykernel)",
   "language": "python",
   "name": "python3"
  },
  "language_info": {
   "codemirror_mode": {
    "name": "ipython",
    "version": 3
   },
   "file_extension": ".py",
   "mimetype": "text/x-python",
   "name": "python",
   "nbconvert_exporter": "python",
   "pygments_lexer": "ipython3",
   "version": "3.9.12"
  }
 },
 "nbformat": 4,
 "nbformat_minor": 5
}
