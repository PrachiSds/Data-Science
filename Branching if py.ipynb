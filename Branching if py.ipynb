{
 "cells": [
  {
   "cell_type": "markdown",
   "id": "cd7b3332",
   "metadata": {},
   "source": [
    "### Branching if else elif"
   ]
  },
  {
   "cell_type": "code",
   "execution_count": 7,
   "id": "90eec6d1",
   "metadata": {},
   "outputs": [],
   "source": [
    "a = 35"
   ]
  },
  {
   "cell_type": "code",
   "execution_count": 6,
   "id": "980f92f2",
   "metadata": {},
   "outputs": [
    {
     "name": "stdout",
     "output_type": "stream",
     "text": [
      "its divisible inside if\n",
      "the number 32 is even \n"
     ]
    }
   ],
   "source": [
    "if a % 2 == 0:\n",
    "    print(\"its divisible inside if\")\n",
    "    print(\"the number {} is even \".format(a))"
   ]
  },
  {
   "cell_type": "code",
   "execution_count": 8,
   "id": "9544c109",
   "metadata": {},
   "outputs": [
    {
     "name": "stdout",
     "output_type": "stream",
     "text": [
      "number 35 is odd\n"
     ]
    }
   ],
   "source": [
    "if a % 2 == 0:\n",
    "    print(\"its divisible inside if\")\n",
    "    print(\"the number {} is even \".format(a))\n",
    "else:\n",
    "    print(\"number {} is odd\".format(a))"
   ]
  },
  {
   "cell_type": "code",
   "execution_count": 11,
   "id": "841dbe82",
   "metadata": {},
   "outputs": [],
   "source": [
    "#using tuple\n",
    "\n",
    "b_tuple = (2,4,6,10,1)"
   ]
  },
  {
   "cell_type": "code",
   "execution_count": 14,
   "id": "e30125e7",
   "metadata": {},
   "outputs": [
    {
     "name": "stdout",
     "output_type": "stream",
     "text": [
      "4 is present in tuple\n"
     ]
    }
   ],
   "source": [
    "a1 = 4\n",
    "\n",
    "if a1 in b_tuple:\n",
    "    print(\"{} is present in tuple\". format(a1))\n",
    "    \n",
    "else:\n",
    "    print(\"{} is not present in tuple\". format(a1))"
   ]
  },
  {
   "cell_type": "code",
   "execution_count": 15,
   "id": "232a6b8d",
   "metadata": {},
   "outputs": [],
   "source": [
    "# if elif elif...\n",
    "\n",
    "day = 'rainy'"
   ]
  },
  {
   "cell_type": "code",
   "execution_count": 17,
   "id": "5afe9938",
   "metadata": {},
   "outputs": [
    {
     "name": "stdout",
     "output_type": "stream",
     "text": [
      "we will not play\n"
     ]
    }
   ],
   "source": [
    "if day == 'sunny':\n",
    "    print(\"we will go out\")\n",
    "elif day == 'cloudy':\n",
    "    print(\"we will go to park\")\n",
    "elif day == 'rainy':\n",
    "    print(\"we will not play\")\n",
    "elif day =='windy':\n",
    "    print(\"we will play\")"
   ]
  },
  {
   "cell_type": "code",
   "execution_count": 43,
   "id": "51a44840",
   "metadata": {},
   "outputs": [],
   "source": [
    "#Difference between if elif elif... and if\n",
    "\n",
    "a2=25"
   ]
  },
  {
   "cell_type": "code",
   "execution_count": 19,
   "id": "43147902",
   "metadata": {},
   "outputs": [
    {
     "name": "stdout",
     "output_type": "stream",
     "text": [
      "we will go to park\n"
     ]
    }
   ],
   "source": [
    "if a2 % 2 == 0:\n",
    "    print(\"we will go out\")\n",
    "elif a2 % 3 == 0:\n",
    "    print(\"we will go to park\")\n",
    "elif a2 % 5 == 0:\n",
    "    print(\"we will not play\")\n",
    "elif a2 % 6 == 0:\n",
    "    print(\"we will play\")"
   ]
  },
  {
   "cell_type": "code",
   "execution_count": 21,
   "id": "9742c22f",
   "metadata": {},
   "outputs": [
    {
     "name": "stdout",
     "output_type": "stream",
     "text": [
      "we will go to park\n",
      "we will play\n"
     ]
    }
   ],
   "source": [
    "if a2 % 2 == 0:\n",
    "    print(\"we will go out\")\n",
    "if a2 % 3 == 0:\n",
    "    print(\"we will go to park\")\n",
    "if a2 % 4 == 0:\n",
    "    print(\"we will not play\")\n",
    "if a2 % 5 == 0:\n",
    "    print(\"we will play\")"
   ]
  },
  {
   "cell_type": "code",
   "execution_count": 24,
   "id": "e5ae121d",
   "metadata": {},
   "outputs": [
    {
     "name": "stdout",
     "output_type": "stream",
     "text": [
      " All conditions false\n",
      "we will play\n"
     ]
    }
   ],
   "source": [
    "# if elif and else ststement\n",
    "\n",
    "if a2 % 2 == 0:\n",
    "    print(\"we will go out\")\n",
    "elif a2 % 3 == 0:\n",
    "    print(\"we will go to park\")\n",
    "elif a2 % 5 == 0:\n",
    "    print(\"we will not play\")\n",
    "else:\n",
    "    print(\" All conditions false\")\n",
    "    print(\"we will play\")"
   ]
  },
  {
   "cell_type": "code",
   "execution_count": 44,
   "id": "aba018a2",
   "metadata": {},
   "outputs": [
    {
     "name": "stdout",
     "output_type": "stream",
     "text": [
      "25  not divisible by 3\n"
     ]
    }
   ],
   "source": [
    "# using operators\n",
    "\n",
    "if a2 % 3 == 0 and a2 % 5 == 0:\n",
    "    print(\"{} is divisible by 3 and 5\" .format(a2))\n",
    "    \n",
    "elif not a2 % 5 == 0:\n",
    "    print(\"{} not divisible by 5\" .format(a2))\n",
    "    \n",
    "elif not a2 % 3 == 0:\n",
    "    print(\"{}  not divisible by 3\" .format(a2))"
   ]
  },
  {
   "cell_type": "code",
   "execution_count": 49,
   "id": "aecc4e95",
   "metadata": {},
   "outputs": [],
   "source": [
    "# nested if else\n",
    "\n",
    "a3=25"
   ]
  },
  {
   "cell_type": "code",
   "execution_count": 50,
   "id": "5261ad3e",
   "metadata": {},
   "outputs": [
    {
     "name": "stdout",
     "output_type": "stream",
     "text": [
      "25 is odd number\n",
      "25 is also divisible by 5\n"
     ]
    }
   ],
   "source": [
    "if a3 % 2 ==0:\n",
    "    print(\"{} is even number\" .format(a3))\n",
    "    if a3 % 3 ==0:\n",
    "        print(\"{} is also divisible by 3\" .format(a3))\n",
    "    else:\n",
    "        print(\"{} not divisible by 3\" .format(a3))\n",
    "else:\n",
    "    print(\"{} is odd number\" .format(a3))\n",
    "    if a3 % 5 == 0:\n",
    "        print(\"{} is also divisible by 5\" .format(a3))\n",
    "    else:\n",
    "        print(\"{} not divisible by 5\" .format(a3))"
   ]
  },
  {
   "cell_type": "code",
   "execution_count": null,
   "id": "a30c5a2d",
   "metadata": {},
   "outputs": [],
   "source": [
    "# Non boolean functions 0,{},'',[] are all falsy values automatically becomes false and all other r true."
   ]
  },
  {
   "cell_type": "code",
   "execution_count": 51,
   "id": "1c7245cb",
   "metadata": {},
   "outputs": [
    {
     "name": "stdout",
     "output_type": "stream",
     "text": [
      "hi\n"
     ]
    }
   ],
   "source": [
    "if '':\n",
    "    print(\"hello\")\n",
    "else:\n",
    "    print(\"hi\")"
   ]
  },
  {
   "cell_type": "code",
   "execution_count": 53,
   "id": "e0b80d67",
   "metadata": {},
   "outputs": [
    {
     "name": "stdout",
     "output_type": "stream",
     "text": [
      "hello\n"
     ]
    }
   ],
   "source": [
    "if {'a' : 22}:\n",
    "    print(\"hello\")\n",
    "else:\n",
    "    print(\"hi\")"
   ]
  },
  {
   "cell_type": "code",
   "execution_count": 54,
   "id": "893aeb31",
   "metadata": {},
   "outputs": [
    {
     "name": "stdout",
     "output_type": "stream",
     "text": [
      "hi\n"
     ]
    }
   ],
   "source": [
    "if None:\n",
    "    print(\"hello\")\n",
    "else:\n",
    "    print(\"hi\")"
   ]
  },
  {
   "cell_type": "code",
   "execution_count": null,
   "id": "5f03fa9b",
   "metadata": {},
   "outputs": [],
   "source": []
  }
 ],
 "metadata": {
  "kernelspec": {
   "display_name": "Python 3 (ipykernel)",
   "language": "python",
   "name": "python3"
  },
  "language_info": {
   "codemirror_mode": {
    "name": "ipython",
    "version": 3
   },
   "file_extension": ".py",
   "mimetype": "text/x-python",
   "name": "python",
   "nbconvert_exporter": "python",
   "pygments_lexer": "ipython3",
   "version": "3.9.12"
  }
 },
 "nbformat": 4,
 "nbformat_minor": 5
}
